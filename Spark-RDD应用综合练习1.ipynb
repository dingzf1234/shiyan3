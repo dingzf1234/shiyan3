{
 "cells": [
  {
   "cell_type": "code",
   "execution_count": 1,
   "metadata": {
    "collapsed": false
   },
   "outputs": [
    {
     "name": "stdout",
     "output_type": "stream",
     "text": [
      "Welcome to\n",
      "      ____              __\n",
      "     / __/__  ___ _____/ /__\n",
      "    _\\ \\/ _ \\/ _ `/ __/  '_/\n",
      "   /__ / .__/\\_,_/_/ /_/\\_\\   version 2.4.5\n",
      "      /_/\n",
      "\n",
      "Using Python version 3.5.2 (default, Jul  5 2016 11:41:13)\n",
      "SparkSession available as 'spark'.\n"
     ]
    }
   ],
   "source": [
    "# 2017013207 电商1701 丁泽锋\n",
    "# 2020-05-02\n",
    "import os\n",
    "import sys\n",
    "spark_name = os.environ.get('SPARK_HOME',None)\n",
    "if not spark_name:\n",
    "    raise ValueErrorError('spark环境没有配置好')\n",
    "sys.path.insert(0,os.path.join(spark_name,'python'))\n",
    "sys.path.insert(0,os.path.join(spark_name,'python/lib/py4j-0.10.7-src.zip'))\n",
    "exec(open(os.path.join(spark_name,'python/pyspark/shell.py')).read())"
   ]
  },
  {
   "cell_type": "code",
   "execution_count": 2,
   "metadata": {
    "collapsed": false
   },
   "outputs": [
    {
     "name": "stdout",
     "output_type": "stream",
     "text": [
      "('Comment', 1)\n",
      "('', 2)\n",
      "('Qu', 1)\n",
      "('Saturday', 1)\n",
      "('Xinhua', 1)\n",
      "('new', 1)\n",
      "('circular', 1)\n",
      "('would', 1)\n",
      "('development', 1)\n",
      "('\"', 1)\n",
      "('18:23:10', 1)\n",
      "('Special', 1)\n",
      "('in', 2)\n",
      "('Area,', 1)\n",
      "('China', 3)\n",
      "('of', 4)\n",
      "('Council.', 1)\n",
      "('after', 1)\n",
      "('New', 3)\n",
      "('set', 1)\n",
      "('Beijing-Tianjin-Hebei', 1)\n",
      "('2017-04-01', 1)\n",
      "('Central', 1)\n",
      "('Pudong', 1)\n",
      "('as', 1)\n",
      "('is', 1)\n",
      "('Zone', 1)\n",
      "('area', 1)\n",
      "('Share', 1)\n",
      "('establish', 1)\n",
      "('State', 1)\n",
      "('Xin', 1)\n",
      "('coordinated', 1)\n",
      "('region.', 1)\n",
      "('further', 1)\n",
      "('significance', 1)\n",
      "('by', 1)\n",
      "('according', 1)\n",
      "('Shanghai', 1)\n",
      "('a', 2)\n",
      "('Economic', 1)\n",
      "('This', 1)\n",
      "('Communist', 1)\n",
      "('to', 3)\n",
      "('(CPC)', 1)\n",
      "('national', 1)\n",
      "('Province,', 1)\n",
      "('the', 7)\n",
      "('Shenzhen', 1)\n",
      "('Party', 1)\n",
      "('it', 1)\n",
      "('Hebei', 2)\n",
      "('Committee', 1)\n",
      "('issued', 1)\n",
      "('announced', 1)\n",
      "('Xiongan', 3)\n",
      "('advance', 1)\n",
      "('up', 1)\n",
      "('and', 2)\n",
      "('Updated:', 1)\n",
      "('(Called', 1)\n",
      "('\")', 1)\n",
      "('measures', 1)\n",
      "('part', 1)\n",
      "('Area', 2)\n"
     ]
    }
   ],
   "source": [
    "from pyspark import SparkConf, SparkContext\n",
    "conf = SparkConf().setAppName(\"wordcount\").setMaster(\"local[2]\")\n",
    "#sc = SparkContext(conf=conf)\n",
    "sc.setLogLevel(\"ERROR\")\n",
    "inputdata = sc.textFile(\"./news.txt\")\n",
    "outputs = inputdata.flatMap(lambda x: x.split(\" \")).map(lambda x: (x, 1)).reduceByKey(lambda a, b: a + b)\n",
    "\n",
    "results = outputs.collect()\n",
    "for i in results:\n",
    "    print(i)"
   ]
  },
  {
   "cell_type": "code",
   "execution_count": 3,
   "metadata": {
    "collapsed": false
   },
   "outputs": [
    {
     "name": "stdout",
     "output_type": "stream",
     "text": [
      "('Xiongan', 3)\n"
     ]
    }
   ],
   "source": [
    "for i in results:\n",
    "    if i[0]=='Xiongan':\n",
    "        print(i)"
   ]
  },
  {
   "cell_type": "code",
   "execution_count": 4,
   "metadata": {
    "collapsed": false
   },
   "outputs": [
    {
     "name": "stdout",
     "output_type": "stream",
     "text": [
      "('China announced Saturday it would establish the Xiongan New Area in Hebei Province, as part of measures to advance the coordinated development of the Beijing-Tianjin-Hebei region.', 1)\n",
      "('China to set up Xiongan New Area (Called \" Xiongan Xin Qu \") in Hebei', 1)\n",
      "包括Xiongan的共有2行\n"
     ]
    }
   ],
   "source": [
    "output = inputdata.flatMap(lambda x: x.split(\"\\n\")).map(lambda x: (x, 1)).reduceByKey(lambda a, b: a + b)\n",
    "\n",
    "result = output.collect()\n",
    "a=0\n",
    "for i in result:\n",
    "    if 'Xiongan'in i[0]:\n",
    "        print(i)\n",
    "        a=a+i[1]\n",
    "print(\"包括Xiongan的共有\"+str(a)+\"行\")"
   ]
  },
  {
   "cell_type": "code",
   "execution_count": 5,
   "metadata": {
    "collapsed": false
   },
   "outputs": [
    {
     "name": "stdout",
     "output_type": "stream",
     "text": [
      "文档共有8行\n",
      "包括Xiongan的行所占比例为25.0%\n"
     ]
    }
   ],
   "source": [
    "b=0\n",
    "for i in result:\n",
    "    b=b+i[1]\n",
    "print(\"文档共有\"+str(b)+\"行\")\n",
    "print(\"包括Xiongan的行所占比例为\"+str(a*100/b)+\"%\")"
   ]
  },
  {
   "cell_type": "code",
   "execution_count": 6,
   "metadata": {
    "collapsed": false
   },
   "outputs": [
    {
     "name": "stdout",
     "output_type": "stream",
     "text": [
      "空白行共有2行\n"
     ]
    }
   ],
   "source": [
    "c=0\n",
    "for i in result:\n",
    "    if i[0]=='':\n",
    "        c=c+i[1]\n",
    "print(\"空白行共有\"+str(c)+\"行\")"
   ]
  },
  {
   "cell_type": "code",
   "execution_count": 7,
   "metadata": {
    "collapsed": false
   },
   "outputs": [
    {
     "name": "stdout",
     "output_type": "stream",
     "text": [
      "文档共有88个单词\n"
     ]
    }
   ],
   "source": [
    "d=0\n",
    "for i in results:\n",
    "    d=d+i[1]\n",
    "print(\"文档共有\"+str(d)+\"个单词\")"
   ]
  },
  {
   "cell_type": "code",
   "execution_count": null,
   "metadata": {
    "collapsed": true
   },
   "outputs": [],
   "source": []
  }
 ],
 "metadata": {
  "anaconda-cloud": {},
  "kernelspec": {
   "display_name": "Python [Root]",
   "language": "python",
   "name": "Python [Root]"
  },
  "language_info": {
   "codemirror_mode": {
    "name": "ipython",
    "version": 3
   },
   "file_extension": ".py",
   "mimetype": "text/x-python",
   "name": "python",
   "nbconvert_exporter": "python",
   "pygments_lexer": "ipython3",
   "version": "3.5.2"
  }
 },
 "nbformat": 4,
 "nbformat_minor": 0
}
