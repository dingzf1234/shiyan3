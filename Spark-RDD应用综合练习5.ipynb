{
 "cells": [
  {
   "cell_type": "code",
   "execution_count": 1,
   "metadata": {
    "collapsed": false
   },
   "outputs": [
    {
     "name": "stdout",
     "output_type": "stream",
     "text": [
      "Welcome to\n",
      "      ____              __\n",
      "     / __/__  ___ _____/ /__\n",
      "    _\\ \\/ _ \\/ _ `/ __/  '_/\n",
      "   /__ / .__/\\_,_/_/ /_/\\_\\   version 2.4.5\n",
      "      /_/\n",
      "\n",
      "Using Python version 3.5.2 (default, Jul  5 2016 11:41:13)\n",
      "SparkSession available as 'spark'.\n"
     ]
    }
   ],
   "source": [
    "#pyspark 实现 K-means算法\n",
    "# 2017013207 电商1701 丁泽锋\n",
    "# 2020-05-02\n",
    "import os\n",
    "import sys\n",
    "spark_name = os.environ.get('SPARK_HOME',None)\n",
    "if not spark_name:\n",
    "    raise ValueErrorError('spark环境没有配置好')\n",
    "sys.path.insert(0,os.path.join(spark_name,'python'))\n",
    "sys.path.insert(0,os.path.join(spark_name,'python/lib/py4j-0.10.7-src.zip'))\n",
    "exec(open(os.path.join(spark_name,'python/pyspark/shell.py')).read())"
   ]
  },
  {
   "cell_type": "code",
   "execution_count": 2,
   "metadata": {
    "collapsed": false
   },
   "outputs": [
    {
     "data": {
      "text/plain": [
       "'\\nk均值聚类算法（k-means clustering algorithm）是一种迭代求解的聚类分析算法，其步骤是，\\n预将数据分为K组，则随机选取K个对象作为初始的聚类中心，\\n然后计算每个对象与各个种子聚类中心之间的距离，把每个对象分配给距离它最近的聚类中心。\\n聚类中心以及分配给它们的对象就代表一个聚类。每分配一个样本，聚类的聚类中心会根据聚类中现有的对象被重新计算。\\n这个过程将不断重复直到满足某个终止条件。终止条件可以是没有（或最小数目）对象被重新分配给不同的聚类，\\n没有（或最小数目）聚类中心再发生变化，误差平方和局部最小。\\n'"
      ]
     },
     "execution_count": 2,
     "metadata": {},
     "output_type": "execute_result"
    }
   ],
   "source": [
    "'''\n",
    "k均值聚类算法（k-means clustering algorithm）是一种迭代求解的聚类分析算法，其步骤是，\n",
    "预将数据分为K组，则随机选取K个对象作为初始的聚类中心，\n",
    "然后计算每个对象与各个种子聚类中心之间的距离，把每个对象分配给距离它最近的聚类中心。\n",
    "聚类中心以及分配给它们的对象就代表一个聚类。每分配一个样本，聚类的聚类中心会根据聚类中现有的对象被重新计算。\n",
    "这个过程将不断重复直到满足某个终止条件。终止条件可以是没有（或最小数目）对象被重新分配给不同的聚类，\n",
    "没有（或最小数目）聚类中心再发生变化，误差平方和局部最小。\n",
    "'''"
   ]
  },
  {
   "cell_type": "code",
   "execution_count": 3,
   "metadata": {
    "collapsed": false
   },
   "outputs": [
    {
     "name": "stdout",
     "output_type": "stream",
     "text": [
      "            (Vectors.dense([7.1, 5.0]),),\n",
      "            (Vectors.dense([1.9, 2.3]),),\n",
      "            (Vectors.dense([0.4, 0.9]),),\n",
      "            (Vectors.dense([7.6, 1.0]),),\n",
      "            (Vectors.dense([0.8, 7.4]),),\n",
      "            (Vectors.dense([4.4, 8.3]),),\n",
      "            (Vectors.dense([4.8, 3.5]),),\n",
      "            (Vectors.dense([0.5, 8.5]),),\n",
      "            (Vectors.dense([1.3, 3.1]),),\n",
      "            (Vectors.dense([9.6, 6.5]),),\n",
      "            (Vectors.dense([7.6, 0.6]),),\n",
      "            (Vectors.dense([3.8, 1.4]),),\n",
      "            (Vectors.dense([8.9, 8.6]),),\n",
      "            (Vectors.dense([3.1, 3.9]),),\n",
      "            (Vectors.dense([9.6, 3.1]),),\n",
      "            (Vectors.dense([1.9, 7.4]),),\n",
      "            (Vectors.dense([6.1, 9.4]),),\n",
      "            (Vectors.dense([7.9, 2.3]),),\n",
      "            (Vectors.dense([9.6, 6.7]),),\n",
      "            (Vectors.dense([1.3, 9.6]),),\n"
     ]
    }
   ],
   "source": [
    "# 随机浮点数：\n",
    "import random\n",
    "import string\n",
    "\n",
    "for ii in range(0,20):\n",
    "    print(\"            (Vectors.dense([\"+'%.1f' %(random.random()*10)+\", \"+('%.1f' %(random.random()*10))+\"]),),\")\n",
    "    "
   ]
  },
  {
   "cell_type": "code",
   "execution_count": 4,
   "metadata": {
    "collapsed": false
   },
   "outputs": [
    {
     "name": "stdout",
     "output_type": "stream",
     "text": [
      "      features  prediction\n",
      "0   [1.0, 3.7]           0\n",
      "1   [3.3, 7.1]           1\n",
      "2   [9.4, 6.2]           1\n",
      "3   [5.1, 3.0]           0\n",
      "4   [3.5, 0.7]           0\n",
      "5   [5.6, 6.4]           1\n",
      "6   [7.7, 3.3]           1\n",
      "7   [4.3, 2.6]           0\n",
      "8   [0.3, 1.2]           0\n",
      "9   [8.1, 6.3]           1\n",
      "10  [7.6, 9.8]           1\n",
      "11  [1.3, 0.3]           0\n",
      "12  [7.8, 6.1]           1\n",
      "13  [1.4, 2.7]           0\n",
      "14  [9.5, 6.1]           1\n",
      "15  [5.3, 0.5]           0\n",
      "16  [2.4, 5.0]           0\n",
      "17  [9.3, 0.0]           0\n",
      "18  [2.0, 7.3]           1\n",
      "19  [8.8, 3.0]           1\n",
      "20  [6.1, 5.7]           1\n",
      "21  [8.0, 9.0]           1\n"
     ]
    }
   ],
   "source": [
    "from pyspark import SparkConf\n",
    "from pyspark.sql import SparkSession\n",
    "from pyspark.ml.linalg import Vectors\n",
    "from pyspark.ml.clustering import KMeans\n",
    "import pandas as pd\n",
    " \n",
    "if __name__ == \"__main__\":\n",
    "    appname = \"KMeans\"\n",
    "    master =\"local[4]\" \n",
    "    conf = SparkConf().setAppName(appname).setMaster(master)  #spark配置                \n",
    "    spark=SparkSession.builder.config(conf=conf).getOrCreate()#spark实例化\n",
    "#读取数据\n",
    "    data = [(Vectors.dense([1.0, 3.7]),),\n",
    "            (Vectors.dense([3.3, 7.1]),),\n",
    "            (Vectors.dense([9.4, 6.2]),),\n",
    "            (Vectors.dense([5.1, 3.0]),),\n",
    "            (Vectors.dense([3.5, 0.7]),),\n",
    "            (Vectors.dense([5.6, 6.4]),),\n",
    "            (Vectors.dense([7.7, 3.3]),),\n",
    "            (Vectors.dense([4.3, 2.6]),),\n",
    "            (Vectors.dense([0.3, 1.2]),),\n",
    "            (Vectors.dense([8.1, 6.3]),),\n",
    "            (Vectors.dense([7.6, 9.8]),),\n",
    "            (Vectors.dense([1.3, 0.3]),),\n",
    "            (Vectors.dense([7.8, 6.1]),),\n",
    "            (Vectors.dense([1.4, 2.7]),),\n",
    "            (Vectors.dense([9.5, 6.1]),),\n",
    "            (Vectors.dense([5.3, 0.5]),),\n",
    "            (Vectors.dense([2.4, 5.0]),),\n",
    "            (Vectors.dense([9.3, 0.0]),),\n",
    "            (Vectors.dense([2.0, 7.3]),),\n",
    "            (Vectors.dense([8.8, 3.0]),),\n",
    "            (Vectors.dense([6.1, 5.7]),),\n",
    "            (Vectors.dense([8.0, 9.0]),)]    \n",
    "    df = spark.createDataFrame(data, [\"features\"])\n",
    " \n",
    "#用k均值进行聚类    \n",
    "    kmeans = KMeans(k=2, seed=1)\n",
    "    model = kmeans.fit(df)\n",
    "    centers = model.clusterCenters()\n",
    "    model.computeCost(df)#每个点到其中心距离平方和\n",
    "    result = model.transform(df).select(\"features\", \"prediction\")#输出聚类结果\n",
    " \n",
    "#将聚类结果转为python中的dataframe\n",
    "    columns=result.columns#提取强表字段\n",
    "    result=result.collect()#\n",
    "    result=pd.DataFrame(result,columns=columns)#转为python中的dataframe\n",
    "    print(result)\n",
    "    spark.stop()"
   ]
  },
  {
   "cell_type": "code",
   "execution_count": 5,
   "metadata": {
    "collapsed": false
   },
   "outputs": [
    {
     "name": "stdout",
     "output_type": "stream",
     "text": [
      "     features  prediction\n",
      "0  [1.0, 3.7]           0\n",
      "     features  prediction\n",
      "3  [5.1, 3.0]           0\n",
      "     features  prediction\n",
      "4  [3.5, 0.7]           0\n",
      "     features  prediction\n",
      "7  [4.3, 2.6]           0\n",
      "     features  prediction\n",
      "8  [0.3, 1.2]           0\n",
      "      features  prediction\n",
      "11  [1.3, 0.3]           0\n",
      "      features  prediction\n",
      "13  [1.4, 2.7]           0\n",
      "      features  prediction\n",
      "15  [5.3, 0.5]           0\n",
      "      features  prediction\n",
      "16  [2.4, 5.0]           0\n",
      "      features  prediction\n",
      "17  [9.3, 0.0]           0\n",
      "     features  prediction\n",
      "1  [3.3, 7.1]           1\n",
      "     features  prediction\n",
      "2  [9.4, 6.2]           1\n",
      "     features  prediction\n",
      "5  [5.6, 6.4]           1\n",
      "     features  prediction\n",
      "6  [7.7, 3.3]           1\n",
      "     features  prediction\n",
      "9  [8.1, 6.3]           1\n",
      "      features  prediction\n",
      "10  [7.6, 9.8]           1\n",
      "      features  prediction\n",
      "12  [7.8, 6.1]           1\n",
      "      features  prediction\n",
      "14  [9.5, 6.1]           1\n",
      "      features  prediction\n",
      "18  [2.0, 7.3]           1\n",
      "      features  prediction\n",
      "19  [8.8, 3.0]           1\n",
      "      features  prediction\n",
      "20  [6.1, 5.7]           1\n",
      "      features  prediction\n",
      "21  [8.0, 9.0]           1\n"
     ]
    }
   ],
   "source": [
    "for ai in range (0,22):\n",
    "    aii = int(result[ai:ai+1]['prediction'])\n",
    "    if aii == 0:\n",
    "      print(result[ai:ai+1]) \n",
    "    \n",
    "for ai in range (0,22):\n",
    "    aii = int(result[ai:ai+1]['prediction'])\n",
    "    if aii == 1:\n",
    "      print(result[ai:ai+1]) "
   ]
  },
  {
   "cell_type": "code",
   "execution_count": 6,
   "metadata": {
    "collapsed": false
   },
   "outputs": [
    {
     "name": "stderr",
     "output_type": "stream",
     "text": [
      "D:\\Anaconda3\\lib\\site-packages\\matplotlib\\axes\\_base.py:3215: MatplotlibDeprecationWarning: \n",
      "The `xmin` argument was deprecated in Matplotlib 3.0 and will be removed in 3.2. Use `left` instead.\n",
      "  alternative='`left`', obj_type='argument')\n",
      "D:\\Anaconda3\\lib\\site-packages\\matplotlib\\axes\\_base.py:3221: MatplotlibDeprecationWarning: \n",
      "The `xmax` argument was deprecated in Matplotlib 3.0 and will be removed in 3.2. Use `right` instead.\n",
      "  alternative='`right`', obj_type='argument')\n",
      "D:\\Anaconda3\\lib\\site-packages\\matplotlib\\axes\\_base.py:3604: MatplotlibDeprecationWarning: \n",
      "The `ymin` argument was deprecated in Matplotlib 3.0 and will be removed in 3.2. Use `bottom` instead.\n",
      "  alternative='`bottom`', obj_type='argument')\n",
      "D:\\Anaconda3\\lib\\site-packages\\matplotlib\\axes\\_base.py:3610: MatplotlibDeprecationWarning: \n",
      "The `ymax` argument was deprecated in Matplotlib 3.0 and will be removed in 3.2. Use `top` instead.\n",
      "  alternative='`top`', obj_type='argument')\n"
     ]
    },
    {
     "data": {
      "image/png": "[encoded data removed]",
      "text/plain": [
       "<Figure size 600x400 with 1 Axes>"
      ]
     },
     "metadata": {},
     "output_type": "display_data"
    }
   ],
   "source": [
    "%matplotlib inline\n",
    "\"蓝色和红色分别表示两类\"\n",
    "import matplotlib.pyplot as plt\n",
    "plt.title(\"I'm a scatter diagram.\") \n",
    "plt.xlim(xmax=10,xmin=0)\n",
    "plt.ylim(ymax=10,ymin=0)\n",
    "plt.plot([9.4,5.6,7.7,8.1,7.6,7.8,9.5,9.3,8.8,6.1,8.0],[6.2, 6.4,3.3, 6.3, 9.8, 6.1, 6.1,0.0,3.0,5.7,9.0],'ro')\n",
    "plt.plot([1.0,3.3,5.1,3.5,4.3,0.3,1.3,1.4,5.3,2.4,2.0],[3.7, 7.1,3.0, 0.7, 2.6, 1.2, 0.3,2.7,0.5,5.0,7.3],'bo')\n",
    "plt.show()"
   ]
  },
  {
   "cell_type": "code",
   "execution_count": null,
   "metadata": {
    "collapsed": true
   },
   "outputs": [],
   "source": []
  }
 ],
 "metadata": {
  "anaconda-cloud": {},
  "kernelspec": {
   "display_name": "Python [Root]",
   "language": "python",
   "name": "Python [Root]"
  },
  "language_info": {
   "codemirror_mode": {
    "name": "ipython",
    "version": 3
   },
   "file_extension": ".py",
   "mimetype": "text/x-python",
   "name": "python",
   "nbconvert_exporter": "python",
   "pygments_lexer": "ipython3",
   "version": "3.5.2"
  }
 },
 "nbformat": 4,
 "nbformat_minor": 0
}
